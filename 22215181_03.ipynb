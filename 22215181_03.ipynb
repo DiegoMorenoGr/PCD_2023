{
 "cells": [
  {
   "cell_type": "markdown",
   "id": "70cd9c15-e329-4ab2-81ac-4d047b00f6ea",
   "metadata": {},
   "source": [
    "# 3 / Oct / 2023\n",
    "## threats"
   ]
  },
  {
   "cell_type": "markdown",
   "id": "96505fa5-e835-450b-b5db-26edacf01146",
   "metadata": {},
   "source": [
    "### import libs, manage threads"
   ]
  },
  {
   "cell_type": "code",
   "execution_count": 11,
   "id": "aee990d9-2fdb-41a5-b361-3625d293b8dd",
   "metadata": {},
   "outputs": [],
   "source": [
    "import threading as th"
   ]
  },
  {
   "cell_type": "code",
   "execution_count": null,
   "id": "954d9b0a-fd64-41fa-ac24-0842f8166072",
   "metadata": {},
   "outputs": [],
   "source": [
    "th.active_count()"
   ]
  },
  {
   "cell_type": "code",
   "execution_count": null,
   "id": "b0137c88-1f78-405b-b24f-ef9046dd3d07",
   "metadata": {},
   "outputs": [],
   "source": [
    "th.current_thread()"
   ]
  },
  {
   "cell_type": "code",
   "execution_count": null,
   "id": "c60f5e13-1b00-43e7-823d-36a51f774e3b",
   "metadata": {},
   "outputs": [],
   "source": [
    "th.current_thread().getName"
   ]
  },
  {
   "cell_type": "code",
   "execution_count": null,
   "id": "30698091-c459-40f3-80b2-6fb6da0433c0",
   "metadata": {},
   "outputs": [],
   "source": [
    "th.enumerate()"
   ]
  },
  {
   "cell_type": "markdown",
   "id": "4a839ef1-1131-4607-8221-8fe477699853",
   "metadata": {},
   "source": [
    "# who is the parent ?"
   ]
  },
  {
   "cell_type": "code",
   "execution_count": 12,
   "id": "00b6d729-a6a3-40e8-9848-4487db2c9305",
   "metadata": {},
   "outputs": [],
   "source": [
    "import os"
   ]
  },
  {
   "cell_type": "code",
   "execution_count": 13,
   "id": "0fc08c65-b1e5-465d-b6a3-9ddf4a3191ab",
   "metadata": {},
   "outputs": [
    {
     "data": {
      "text/plain": [
       "4872"
      ]
     },
     "execution_count": 13,
     "metadata": {},
     "output_type": "execute_result"
    }
   ],
   "source": [
    "os.getpid()"
   ]
  },
  {
   "cell_type": "code",
   "execution_count": null,
   "id": "3bca3955-c368-4815-a906-a2dd8db7476b",
   "metadata": {},
   "outputs": [],
   "source": [
    "from IPython import display as dp"
   ]
  },
  {
   "cell_type": "code",
   "execution_count": null,
   "id": "d9399c83-6d16-433d-85c9-1bf5e848a338",
   "metadata": {},
   "outputs": [],
   "source": [
    "dp.Image(\"ProcesoPadre.png\")"
   ]
  },
  {
   "cell_type": "markdown",
   "id": "b64b88ad-da08-4e16-a65d-6b9025eb8f3a",
   "metadata": {},
   "source": [
    "# threats VS process"
   ]
  },
  {
   "cell_type": "markdown",
   "id": "488a0c33-9f43-415c-9d13-61f58032728e",
   "metadata": {},
   "source": [
    "## therads ex."
   ]
  },
  {
   "cell_type": "code",
   "execution_count": null,
   "id": "ac9c3414-1a72-45cb-9abe-fddd7831ef9a",
   "metadata": {},
   "outputs": [],
   "source": [
    "def do_nothing():\n",
    "    while True:\n",
    "        pass "
   ]
  },
  {
   "cell_type": "code",
   "execution_count": null,
   "id": "17492b98-4503-4f6a-ae59-2342e5b3bf93",
   "metadata": {},
   "outputs": [],
   "source": [
    "for i in range(20):\n",
    "    th.Thread(target=do_nothing()).start()\n",
    "\n",
    "\n",
    "th.enumerate()"
   ]
  },
  {
   "cell_type": "markdown",
   "id": "b8137313-f666-4763-8172-929dfee46910",
   "metadata": {},
   "source": [
    "## Process ex."
   ]
  },
  {
   "cell_type": "code",
   "execution_count": null,
   "id": "7cab1a12-1b3c-42f4-a12e-2cc43c405c31",
   "metadata": {},
   "outputs": [],
   "source": [
    "for i in range(20):\n",
    "    mp.Process(target = do_nothing()).start"
   ]
  },
  {
   "cell_type": "markdown",
   "id": "e59a3414-5ad0-46ef-8afd-08321c31ef52",
   "metadata": {},
   "source": [
    "### Cuantos hilos puedo instanciar ?"
   ]
  },
  {
   "cell_type": "markdown",
   "id": "fc13e37b-673d-4c5d-8546-185611578dbc",
   "metadata": {},
   "source": [
    "### import libs, manage process (cores)"
   ]
  },
  {
   "cell_type": "code",
   "execution_count": 14,
   "id": "9bacfde5-ddaf-4ffe-8fec-d26ce0e69661",
   "metadata": {},
   "outputs": [],
   "source": [
    "import multiprocessing as mp # Manages cores"
   ]
  },
  {
   "cell_type": "code",
   "execution_count": 15,
   "id": "3d239003-f7d3-40e0-8a31-e8f116022080",
   "metadata": {},
   "outputs": [
    {
     "data": {
      "text/plain": [
       "8"
      ]
     },
     "execution_count": 15,
     "metadata": {},
     "output_type": "execute_result"
    }
   ],
   "source": [
    "mp.cpu_count()"
   ]
  },
  {
   "cell_type": "markdown",
   "id": "430a3074-706a-468a-830f-698880507330",
   "metadata": {},
   "source": [
    "### Cual es mi interpretee de python?"
   ]
  },
  {
   "cell_type": "code",
   "execution_count": 16,
   "id": "474ab079-297a-4f06-9bfc-5328fe5f6036",
   "metadata": {},
   "outputs": [],
   "source": [
    "import platform as pt"
   ]
  },
  {
   "cell_type": "code",
   "execution_count": null,
   "id": "2905b914-3c19-4d9b-a821-51985b1d55b2",
   "metadata": {},
   "outputs": [],
   "source": [
    "pt.python_implementation()"
   ]
  },
  {
   "cell_type": "code",
   "execution_count": null,
   "id": "4720d6e3-ca2f-4d54-990a-46ef7f676088",
   "metadata": {},
   "outputs": [],
   "source": [
    "! python3 --version"
   ]
  },
  {
   "cell_type": "code",
   "execution_count": null,
   "id": "3ea22781-9733-4632-ab68-3fb1a3121433",
   "metadata": {},
   "outputs": [],
   "source": [
    "pt.python_compiler()"
   ]
  },
  {
   "cell_type": "code",
   "execution_count": null,
   "id": "498fdfbc-13da-4e1a-94e7-f1bb827d3433",
   "metadata": {},
   "outputs": [],
   "source": [
    "[1,2,3,4],[4,6,7]"
   ]
  },
  {
   "cell_type": "code",
   "execution_count": 1,
   "id": "e3bf54f1-9fc5-4256-b5f4-cb2b28920055",
   "metadata": {},
   "outputs": [
    {
     "name": "stdout",
     "output_type": "stream",
     "text": [
      "On branch main\n",
      "Your branch is up to date with 'origin/main'.\n",
      "\n",
      "Untracked files:\n",
      "  (use \"git add <file>...\" to include in what will be committed)\n",
      "\t.ipynb_checkpoints/\n",
      "\t22215181_03.ipynb\n",
      "\n",
      "nothing added to commit but untracked files present (use \"git add\" to track)\n"
     ]
    }
   ],
   "source": [
    "!git status"
   ]
  },
  {
   "cell_type": "code",
   "execution_count": null,
   "id": "13d01509-d204-4c05-9e79-971c42b45c6e",
   "metadata": {},
   "outputs": [],
   "source": []
  }
 ],
 "metadata": {
  "kernelspec": {
   "display_name": "Python 3 (ipykernel)",
   "language": "python",
   "name": "python3"
  },
  "language_info": {
   "codemirror_mode": {
    "name": "ipython",
    "version": 3
   },
   "file_extension": ".py",
   "mimetype": "text/x-python",
   "name": "python",
   "nbconvert_exporter": "python",
   "pygments_lexer": "ipython3",
   "version": "3.11.5"
  }
 },
 "nbformat": 4,
 "nbformat_minor": 5
}
