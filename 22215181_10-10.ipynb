{
 "cells": [
  {
   "cell_type": "code",
   "execution_count": 5,
   "id": "8fd07322-7825-47db-85e2-c5b6752b2c55",
   "metadata": {},
   "outputs": [],
   "source": [
    "import os, threading as th, time, urllib.request as rq, concurrent as ct, IPython as IP"
   ]
  },
  {
   "cell_type": "code",
   "execution_count": 15,
   "id": "006ea65a-e433-42cd-a741-aab2d5b36b98",
   "metadata": {},
   "outputs": [
    {
     "name": "stdin",
     "output_type": "stream",
     "text": [
      "number 3728\n"
     ]
    }
   ],
   "source": [
    "img=int(input(\"number\"))"
   ]
  },
  {
   "cell_type": "code",
   "execution_count": 16,
   "id": "76d98183-c2ac-4da0-b250-9cddebdd854e",
   "metadata": {},
   "outputs": [],
   "source": [
    "img_url = 'https://storage.cloud.google.com/pcd-images-threads/IMG_3727.jpeg'.format(img)"
   ]
  },
  {
   "cell_type": "code",
   "execution_count": 17,
   "id": "a32a39c0-c7a1-47ac-8450-d7cf84fa6b30",
   "metadata": {},
   "outputs": [
    {
     "data": {
      "text/plain": [
       "'https://storage.cloud.google.com/pcd-images-threads/IMG_3727.jpeg'"
      ]
     },
     "execution_count": 17,
     "metadata": {},
     "output_type": "execute_result"
    }
   ],
   "source": [
    "img_url"
   ]
  },
  {
   "cell_type": "code",
   "execution_count": 18,
   "id": "07afec5a-2e40-42f8-bcc2-2839a7df09aa",
   "metadata": {},
   "outputs": [],
   "source": [
    "a_url_=[]"
   ]
  },
  {
   "cell_type": "code",
   "execution_count": 19,
   "id": "54b44524-d282-40cb-a45d-3050cbd322c0",
   "metadata": {},
   "outputs": [
    {
     "name": "stdout",
     "output_type": "stream",
     "text": [
      "https://storage.cloud.google.com/pcd-images-threads/IMG_3727.jpeg0.jpeg\n",
      "https://storage.cloud.google.com/pcd-images-threads/IMG_3727.jpeg1.jpeg\n",
      "https://storage.cloud.google.com/pcd-images-threads/IMG_3727.jpeg2.jpeg\n",
      "https://storage.cloud.google.com/pcd-images-threads/IMG_3727.jpeg3.jpeg\n",
      "https://storage.cloud.google.com/pcd-images-threads/IMG_3727.jpeg4.jpeg\n",
      "https://storage.cloud.google.com/pcd-images-threads/IMG_3727.jpeg5.jpeg\n",
      "https://storage.cloud.google.com/pcd-images-threads/IMG_3727.jpeg6.jpeg\n",
      "https://storage.cloud.google.com/pcd-images-threads/IMG_3727.jpeg7.jpeg\n",
      "https://storage.cloud.google.com/pcd-images-threads/IMG_3727.jpeg8.jpeg\n",
      "https://storage.cloud.google.com/pcd-images-threads/IMG_3727.jpeg9.jpeg\n"
     ]
    }
   ],
   "source": [
    "for i in range(10):\n",
    "    img_uri_=\"https://storage.cloud.google.com/pcd-images-threads/IMG_3727.jpeg\"+str(i)+'.jpeg'\n",
    "    print(img_uri_)\n",
    "    a_url_.append(img_uri_)"
   ]
  },
  {
   "cell_type": "code",
   "execution_count": 13,
   "id": "b1da65ca-143e-4a45-953e-83efbeae2878",
   "metadata": {},
   "outputs": [],
   "source": [
    "def seg_download_images(image_numbers):\n",
    "    total_bytes = 0\n",
    "    for num in image_numbers:\n",
    "        total_bytes+=_download_image(num)\n",
    "        return total_bytes"
   ]
  },
  {
   "cell_type": "code",
   "execution_count": null,
   "id": "d0301421-ab5b-415f-b0e1-89bc4eacdff7",
   "metadata": {},
   "outputs": [],
   "source": []
  }
 ],
 "metadata": {
  "kernelspec": {
   "display_name": "Python 3 (ipykernel)",
   "language": "python",
   "name": "python3"
  },
  "language_info": {
   "codemirror_mode": {
    "name": "ipython",
    "version": 3
   },
   "file_extension": ".py",
   "mimetype": "text/x-python",
   "name": "python",
   "nbconvert_exporter": "python",
   "pygments_lexer": "ipython3",
   "version": "3.11.5"
  }
 },
 "nbformat": 4,
 "nbformat_minor": 5
}
