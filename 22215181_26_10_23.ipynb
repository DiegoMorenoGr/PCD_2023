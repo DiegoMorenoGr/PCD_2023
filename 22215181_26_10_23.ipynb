{
 "cells": [
  {
   "cell_type": "markdown",
   "id": "d160d0da-5328-4fa8-a595-b5979bc7f22d",
   "metadata": {},
   "source": [
    "### Matriz A que tenga 300 X 300"
   ]
  },
  {
   "cell_type": "code",
   "execution_count": 1,
   "id": "6ca33b21-e126-4b61-b9c7-1e950f2ff1e1",
   "metadata": {},
   "outputs": [],
   "source": [
    "filas = 300\n",
    "columnas = 300"
   ]
  },
  {
   "cell_type": "code",
   "execution_count": 2,
   "id": "eb72cece-3c7a-4bb5-aa0f-98e2cb5ecace",
   "metadata": {},
   "outputs": [],
   "source": [
    "matriz = []"
   ]
  },
  {
   "cell_type": "code",
   "execution_count": 3,
   "id": "35793da1-a9c2-42e4-98f8-88f98aa5cd04",
   "metadata": {},
   "outputs": [],
   "source": [
    "import random"
   ]
  },
  {
   "cell_type": "code",
   "execution_count": 4,
   "id": "041b7326-9508-481b-8e96-8240662e20e5",
   "metadata": {},
   "outputs": [],
   "source": [
    "for i in range(300):\n",
    "    for j in range(300):\n",
    "        matriz = [i, j]"
   ]
  },
  {
   "cell_type": "code",
   "execution_count": 5,
   "id": "ea3dea70-fd75-4d59-b1ac-9d55802bad6f",
   "metadata": {},
   "outputs": [
    {
     "data": {
      "text/plain": [
       "[299, 299]"
      ]
     },
     "execution_count": 5,
     "metadata": {},
     "output_type": "execute_result"
    }
   ],
   "source": [
    "matriz"
   ]
  },
  {
   "cell_type": "code",
   "execution_count": 6,
   "id": "7f991d17-4e84-4d53-9b1b-122cbe069f6b",
   "metadata": {},
   "outputs": [
    {
     "ename": "NameError",
     "evalue": "name 'col_A' is not defined",
     "output_type": "error",
     "traceback": [
      "\u001b[1;31m---------------------------------------------------------------------------\u001b[0m",
      "\u001b[1;31mNameError\u001b[0m                                 Traceback (most recent call last)",
      "Cell \u001b[1;32mIn[6], line 1\u001b[0m\n\u001b[1;32m----> 1\u001b[0m matriz \u001b[38;5;241m=\u001b[39m [[random\u001b[38;5;241m.\u001b[39mrandint(\u001b[38;5;241m0\u001b[39m, \u001b[38;5;241m222\u001b[39m) \u001b[38;5;28;01mfor\u001b[39;00m i \u001b[38;5;129;01min\u001b[39;00m \u001b[38;5;28mrange\u001b[39m(fil_A)] \u001b[38;5;28;01mfor\u001b[39;00m j \u001b[38;5;129;01min\u001b[39;00m \u001b[38;5;28mrange\u001b[39m(\u001b[43mcol_A\u001b[49m)]\n",
      "\u001b[1;31mNameError\u001b[0m: name 'col_A' is not defined"
     ]
    }
   ],
   "source": [
    "matriz = [[random.randint(0, 222) for i in range(fil_A)] for j in range(col_A)]"
   ]
  },
  {
   "cell_type": "code",
   "execution_count": 7,
   "id": "9e4ffd04-0364-4e1d-93aa-4deeb5dfe2ad",
   "metadata": {},
   "outputs": [
    {
     "ename": "NameError",
     "evalue": "name 'col_B' is not defined",
     "output_type": "error",
     "traceback": [
      "\u001b[1;31m---------------------------------------------------------------------------\u001b[0m",
      "\u001b[1;31mNameError\u001b[0m                                 Traceback (most recent call last)",
      "Cell \u001b[1;32mIn[7], line 1\u001b[0m\n\u001b[1;32m----> 1\u001b[0m matriz_B \u001b[38;5;241m=\u001b[39m [[random\u001b[38;5;241m.\u001b[39mrandint(\u001b[38;5;241m0\u001b[39m,\u001b[38;5;241m222\u001b[39m) \u001b[38;5;28;01mfor\u001b[39;00m i \u001b[38;5;129;01min\u001b[39;00m \u001b[38;5;28mrange\u001b[39m(fil_B)] \u001b[38;5;28;01mfor\u001b[39;00m j \u001b[38;5;129;01min\u001b[39;00m \u001b[38;5;28mrange\u001b[39m(\u001b[43mcol_B\u001b[49m)]\n",
      "\u001b[1;31mNameError\u001b[0m: name 'col_B' is not defined"
     ]
    }
   ],
   "source": [
    "matriz_B = [[random.randint(0,222) for i in range(fil_B)] for j in range(col_B)]"
   ]
  },
  {
   "cell_type": "code",
   "execution_count": 8,
   "id": "036a30ba-56cb-43b6-8371-2fd429aebb42",
   "metadata": {},
   "outputs": [
    {
     "ename": "NameError",
     "evalue": "name 'matriz_B' is not defined",
     "output_type": "error",
     "traceback": [
      "\u001b[1;31m---------------------------------------------------------------------------\u001b[0m",
      "\u001b[1;31mNameError\u001b[0m                                 Traceback (most recent call last)",
      "Cell \u001b[1;32mIn[8], line 1\u001b[0m\n\u001b[1;32m----> 1\u001b[0m \u001b[38;5;28mlen\u001b[39m(\u001b[43mmatriz_B\u001b[49m[\u001b[38;5;241m0\u001b[39m])\n\u001b[0;32m      2\u001b[0m \u001b[38;5;28mlen\u001b[39m(matriz_B)\n",
      "\u001b[1;31mNameError\u001b[0m: name 'matriz_B' is not defined"
     ]
    }
   ],
   "source": [
    "len(matriz_B[0])\n",
    "len(matriz_B)"
   ]
  },
  {
   "cell_type": "code",
   "execution_count": 53,
   "id": "a7379e6a-e79e-474b-bd93-a88c684ae469",
   "metadata": {},
   "outputs": [
    {
     "name": "stdout",
     "output_type": "stream",
     "text": [
      "Las matrices se pueden multiplicar\n"
     ]
    }
   ],
   "source": [
    "if(len(matriz[0]) == len(matriz_B)):\n",
    "    print(\"Las matrices se pueden multiplicar\")\n",
    "else:\n",
    "    print(\"Las matrices no se pueden multiplicar\")"
   ]
  },
  {
   "cell_type": "code",
   "execution_count": 44,
   "id": "c5a61f34-34b5-432f-89f8-cb63320d6ae0",
   "metadata": {},
   "outputs": [
    {
     "name": "stdin",
     "output_type": "stream",
     "text": [
      "Ingresa las filas de A 300\n"
     ]
    }
   ],
   "source": [
    "fil_A = int(input(\"Ingresa las filas de A\"))"
   ]
  },
  {
   "cell_type": "code",
   "execution_count": 45,
   "id": "b5322786-da7a-49a4-9fc9-3f8628f5ff15",
   "metadata": {},
   "outputs": [
    {
     "name": "stdin",
     "output_type": "stream",
     "text": [
      "Ingresa las columnas de A 300\n"
     ]
    }
   ],
   "source": [
    "col_A = int(input(\"Ingresa las columnas de A\"))"
   ]
  },
  {
   "cell_type": "code",
   "execution_count": 46,
   "id": "567d7dab-7a6c-4e96-8f26-2a80bca9a103",
   "metadata": {},
   "outputs": [
    {
     "name": "stdin",
     "output_type": "stream",
     "text": [
      "Ingrese las filas de B 300\n"
     ]
    }
   ],
   "source": [
    "fil_B = int(input(\"Ingrese las filas de B\"))"
   ]
  },
  {
   "cell_type": "code",
   "execution_count": 47,
   "id": "007e10da-5961-4cb0-ab31-7b4f17996236",
   "metadata": {},
   "outputs": [
    {
     "name": "stdin",
     "output_type": "stream",
     "text": [
      "Ingrese las columnas de B 300\n"
     ]
    }
   ],
   "source": [
    "col_B = int(input(\"Ingrese las columnas de B\"))"
   ]
  },
  {
   "cell_type": "code",
   "execution_count": 48,
   "id": "2bcd38ee-f888-445b-94cf-18209da0356c",
   "metadata": {},
   "outputs": [
    {
     "name": "stdout",
     "output_type": "stream",
     "text": [
      "Las dimensiones introducidas son  300 ,  300\n"
     ]
    }
   ],
   "source": [
    "print(\"Las dimensiones introducidas son \", col_A, \", \", fil_A)"
   ]
  },
  {
   "cell_type": "code",
   "execution_count": 49,
   "id": "9b6add48-d0f9-40b6-a045-39f04ab3c5dd",
   "metadata": {},
   "outputs": [
    {
     "name": "stdout",
     "output_type": "stream",
     "text": [
      "Las dimensiones introducidas son  300 ,  300\n"
     ]
    }
   ],
   "source": [
    "print(\"Las dimensiones introducidas son \", col_B, \", \", fil_B)"
   ]
  },
  {
   "cell_type": "code",
   "execution_count": 64,
   "id": "03b83478-34f0-40f1-a423-894935888c3a",
   "metadata": {},
   "outputs": [],
   "source": [
    "def multiplicarMatrices(A, B):\n",
    "    if(len(matriz[0]) == len(matriz_B)):\n",
    "        print(\"Las matrices se pueden multiplicar\")\n",
    "    else:\n",
    "        print(\"Las matrices no se pueden multiplicar\")\n",
    "        "
   ]
  },
  {
   "cell_type": "code",
   "execution_count": 58,
   "id": "50a5d8bb-938f-4556-9298-67ae64300040",
   "metadata": {},
   "outputs": [
    {
     "name": "stdout",
     "output_type": "stream",
     "text": [
      "Las matrices se pueden multiplicar\n"
     ]
    }
   ],
   "source": [
    "multiplicarMatrices(matriz, matriz_B)"
   ]
  },
  {
   "cell_type": "code",
   "execution_count": 59,
   "id": "3138587e-ebe4-4d77-88d1-72d01ac0f442",
   "metadata": {},
   "outputs": [
    {
     "name": "stdout",
     "output_type": "stream",
     "text": [
      "On branch main\n",
      "Your branch is up to date with 'origin/main'.\n",
      "\n",
      "Changes not staged for commit:\n",
      "  (use \"git add <file>...\" to update what will be committed)\n",
      "  (use \"git restore <file>...\" to discard changes in working directory)\n",
      "  (commit or discard the untracked or modified content in submodules)\n",
      "\tmodified:   PCD2023 (modified content)\n",
      "\tmodified:   Python_crash_course_session_2.ipynb\n",
      "\tmodified:   Untitled.ipynb\n",
      "\n",
      "no changes added to commit (use \"git add\" and/or \"git commit -a\")\n"
     ]
    }
   ],
   "source": [
    "!git status"
   ]
  },
  {
   "cell_type": "code",
   "execution_count": 61,
   "id": "357d81a4-f25e-4855-a979-1017e9e4986e",
   "metadata": {},
   "outputs": [
    {
     "name": "stderr",
     "output_type": "stream",
     "text": [
      "warning: in the working copy of 'Python_crash_course_session_2.ipynb', LF will be replaced by CRLF the next time Git touches it\n",
      "warning: in the working copy of 'Untitled.ipynb', LF will be replaced by CRLF the next time Git touches it\n"
     ]
    }
   ],
   "source": [
    "!git add ."
   ]
  },
  {
   "cell_type": "code",
   "execution_count": 62,
   "id": "6d9193d2-2f16-4c51-9f87-dcc21a2af53d",
   "metadata": {},
   "outputs": [
    {
     "name": "stdout",
     "output_type": "stream",
     "text": [
      "[main 09fb9b7] Commit dÃ­a 26/10/2023\n",
      " 2 files changed, 351 insertions(+), 15 deletions(-)\n"
     ]
    }
   ],
   "source": [
    "!git commit -m \"Commit día 26/10/2023\""
   ]
  },
  {
   "cell_type": "code",
   "execution_count": 63,
   "id": "595edacf-0440-409e-92a6-d5f6cfd23d0f",
   "metadata": {},
   "outputs": [
    {
     "name": "stderr",
     "output_type": "stream",
     "text": [
      "To https://github.com/SrHuevo04/PCD_2023.git\n",
      "   8e8740e..09fb9b7  main -> main\n"
     ]
    }
   ],
   "source": [
    "!git push "
   ]
  },
  {
   "cell_type": "code",
   "execution_count": null,
   "id": "59854c59-2cb6-4c5f-a9fb-28fe92daaef5",
   "metadata": {},
   "outputs": [],
   "source": []
  }
 ],
 "metadata": {
  "kernelspec": {
   "display_name": "Python 3 (ipykernel)",
   "language": "python",
   "name": "python3"
  },
  "language_info": {
   "codemirror_mode": {
    "name": "ipython",
    "version": 3
   },
   "file_extension": ".py",
   "mimetype": "text/x-python",
   "name": "python",
   "nbconvert_exporter": "python",
   "pygments_lexer": "ipython3",
   "version": "3.11.5"
  }
 },
 "nbformat": 4,
 "nbformat_minor": 5
}
