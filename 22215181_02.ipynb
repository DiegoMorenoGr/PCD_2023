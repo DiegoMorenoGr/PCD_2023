{
 "cells": [
  {
   "cell_type": "code",
   "execution_count": 2,
   "id": "86b09a2f-b303-4a9e-8236-1c6f9478f80d",
   "metadata": {},
   "outputs": [
    {
     "name": "stdout",
     "output_type": "stream",
     "text": [
      "Requirement already satisfied: python3-nmap in c:\\users\\diego\\appdata\\local\\programs\\python\\python311\\lib\\site-packages (1.6.0)\n",
      "Requirement already satisfied: simplejson in c:\\users\\diego\\appdata\\local\\programs\\python\\python311\\lib\\site-packages (from python3-nmap) (3.19.1)\n"
     ]
    }
   ],
   "source": [
    "!pip install python3-nmap"
   ]
  },
  {
   "cell_type": "code",
   "execution_count": 3,
   "id": "2e040627-7dc4-41c9-8fbc-624a823d8494",
   "metadata": {},
   "outputs": [
    {
     "ename": "SyntaxError",
     "evalue": "invalid syntax (63295040.py, line 1)",
     "output_type": "error",
     "traceback": [
      "\u001b[1;36m  Cell \u001b[1;32mIn[3], line 1\u001b[1;36m\u001b[0m\n\u001b[1;33m    import python3-nmap as nmap\u001b[0m\n\u001b[1;37m                  ^\u001b[0m\n\u001b[1;31mSyntaxError\u001b[0m\u001b[1;31m:\u001b[0m invalid syntax\n"
     ]
    }
   ],
   "source": [
    "import python3-nmap as nmap"
   ]
  },
  {
   "cell_type": "code",
   "execution_count": null,
   "id": "a2e1fc4d-2d0d-446d-9e48-6a501d849751",
   "metadata": {},
   "outputs": [],
   "source": []
  }
 ],
 "metadata": {
  "kernelspec": {
   "display_name": "Python 3 (ipykernel)",
   "language": "python",
   "name": "python3"
  },
  "language_info": {
   "codemirror_mode": {
    "name": "ipython",
    "version": 3
   },
   "file_extension": ".py",
   "mimetype": "text/x-python",
   "name": "python",
   "nbconvert_exporter": "python",
   "pygments_lexer": "ipython3",
   "version": "3.11.5"
  }
 },
 "nbformat": 4,
 "nbformat_minor": 5
}
