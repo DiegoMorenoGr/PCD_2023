{
 "cells": [
  {
   "cell_type": "code",
   "execution_count": 1,
   "id": "c886b287-6537-443a-adb5-dad6cbe4ccfa",
   "metadata": {},
   "outputs": [
    {
     "name": "stdout",
     "output_type": "stream",
     "text": [
      "pip 23.2.1 from C:\\Users\\diego\\AppData\\Local\\Programs\\Python\\Python311\\Lib\\site-packages\\pip (python 3.11)\n",
      "\n"
     ]
    }
   ],
   "source": [
    "!pip --version"
   ]
  },
  {
   "cell_type": "markdown",
   "id": "93d3aa57-bb5a-4071-ac10-d4b01615d6eb",
   "metadata": {},
   "source": [
    "### SYSTEM SPECS"
   ]
  },
  {
   "cell_type": "code",
   "execution_count": 2,
   "id": "575ae72e-00fa-40d4-9897-27ff599f4145",
   "metadata": {},
   "outputs": [],
   "source": [
    "import platform as pt"
   ]
  },
  {
   "cell_type": "code",
   "execution_count": 3,
   "id": "e1fe8fe5-36fa-4539-83e9-f45131678e71",
   "metadata": {},
   "outputs": [
    {
     "data": {
      "text/plain": [
       "uname_result(system='Windows', node='PC-DIEGO', release='10', version='10.0.19045', machine='AMD64')"
      ]
     },
     "execution_count": 3,
     "metadata": {},
     "output_type": "execute_result"
    }
   ],
   "source": [
    "pt.uname()"
   ]
  },
  {
   "cell_type": "code",
   "execution_count": 4,
   "id": "6986956b-a0d8-481e-adc3-6859ace87e5e",
   "metadata": {},
   "outputs": [
    {
     "data": {
      "text/plain": [
       "'Windows-10-10.0.19045-SP0'"
      ]
     },
     "execution_count": 4,
     "metadata": {},
     "output_type": "execute_result"
    }
   ],
   "source": [
    "pt.platform()"
   ]
  },
  {
   "cell_type": "code",
   "execution_count": 5,
   "id": "5a33e831-2b7a-413a-ad84-e6317d96e140",
   "metadata": {},
   "outputs": [
    {
     "data": {
      "text/plain": [
       "<function platform.processor()>"
      ]
     },
     "execution_count": 5,
     "metadata": {},
     "output_type": "execute_result"
    }
   ],
   "source": [
    "pt.processor"
   ]
  },
  {
   "cell_type": "markdown",
   "id": "f1fddafb-52ac-40ed-bce5-1a189a2db661",
   "metadata": {},
   "source": [
    "### CORES?"
   ]
  },
  {
   "cell_type": "code",
   "execution_count": 6,
   "id": "057c78cc-f571-44c0-97ee-1fb94bba5d94",
   "metadata": {},
   "outputs": [],
   "source": [
    "import os"
   ]
  },
  {
   "cell_type": "code",
   "execution_count": 7,
   "id": "d17493a5-f5f5-45c3-a18a-2165b7a6af39",
   "metadata": {},
   "outputs": [
    {
     "data": {
      "text/plain": [
       "8"
      ]
     },
     "execution_count": 7,
     "metadata": {},
     "output_type": "execute_result"
    }
   ],
   "source": [
    "os.cpu_count()"
   ]
  },
  {
   "cell_type": "code",
   "execution_count": null,
   "id": "a6fc4aa0-9de0-4df1-8252-2de2838f5e74",
   "metadata": {},
   "outputs": [],
   "source": []
  }
 ],
 "metadata": {
  "kernelspec": {
   "display_name": "Python 3 (ipykernel)",
   "language": "python",
   "name": "python3"
  },
  "language_info": {
   "codemirror_mode": {
    "name": "ipython",
    "version": 3
   },
   "file_extension": ".py",
   "mimetype": "text/x-python",
   "name": "python",
   "nbconvert_exporter": "python",
   "pygments_lexer": "ipython3",
   "version": "3.11.5"
  }
 },
 "nbformat": 4,
 "nbformat_minor": 5
}
